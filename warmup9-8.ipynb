{
 "cells": [
  {
   "cell_type": "code",
   "execution_count": 18,
   "metadata": {},
   "outputs": [
    {
     "name": "stdout",
     "output_type": "stream",
     "text": [
      "Force of gravity between the earth and the moon is 1.9216177909270217e+20 Newtons\n",
      "The gravitational field stength of the earth on the moon is 0.002618007889546351 N / kg\n"
     ]
    }
   ],
   "source": [
    "import numpy as np\n",
    "import matplotlib.pyplot as plt\n",
    "\n",
    "# constants\n",
    "G = 6.67E-11 # Nm^2/kg^2\n",
    "m_E = 5.97E+24 # kg\n",
    "r_E = 6.378E+6 # m\n",
    "pos_E = np.array([0, 0]) # position of the earth in meters\n",
    "m_M = 7.34E+22\n",
    "r = 3.9E+8\n",
    "\n",
    "def Gravity(m1, m2, r):\n",
    "    return G * m1 * m2 / (r ** 2)\n",
    "\n",
    "def g_field(m, r):\n",
    "    return G * m / (r ** 2)\n",
    "\n",
    "print(f\"Force of gravity between the earth and the moon is {Gravity(m_E, m_M, r)} Newtons\")\n",
    "print(f\"The gravitational field stength of the earth on the moon is {g_field(m_E, r)} N / kg\")\n",
    "\n"
   ]
  },
  {
   "cell_type": "code",
   "execution_count": 13,
   "metadata": {},
   "outputs": [
    {
     "name": "stdout",
     "output_type": "stream",
     "text": [
      " The magnitude of electric force between the balloons is 9.234900404266999e-07 N\n"
     ]
    }
   ],
   "source": [
    "K = 9e9\n",
    "def ElectricForce(q1, q2, r):\n",
    "    return -K * q1 * q2 / (r ** 2)\n",
    "\n",
    "print(f\" The magnitude of electric force between the balloons is {abs(ElectricForce(-6.25e-9,-6.25e-9,0.617))} N\")"
   ]
  },
  {
   "cell_type": "code",
   "execution_count": 19,
   "metadata": {},
   "outputs": [
    {
     "name": "stdout",
     "output_type": "stream",
     "text": [
      " The magnitude of electric force between the charges is 90.0 N to the left\n"
     ]
    }
   ],
   "source": [
    "c1 = 4E-6 # C\n",
    "c2 = -2E-6 # C\n",
    "c3 = 3E-6 # C\n",
    "\n",
    "r1 = 0.04 # m\n",
    "r2 = 0.02 # m\n",
    "\n",
    "print(f\" The magnitude of electric force between the charges is {ElectricForce(c2,c1,r1) - ElectricForce(c2, c3, r2)} N to the left\")"
   ]
  },
  {
   "cell_type": "code",
   "execution_count": 37,
   "metadata": {},
   "outputs": [
    {
     "name": "stdout",
     "output_type": "stream",
     "text": [
      "[ 0.036     -0.4364768]\n"
     ]
    }
   ],
   "source": [
    "\n",
    "def Eforce(q1, q2, pos1, pos2):\n",
    "    r = pos2 - pos1 #setting up radius vector (from object 2 to object 1)\n",
    "    rmag = np.linalg.norm(r) #normalizes the radius vector, gives us magnitude \n",
    "    rhat = r / rmag #unit vector for radius\n",
    "    \n",
    "    #define force object 2 exerts on object 1\n",
    "    Force = -K * q1 * q2 * (1 / rmag ** 2) * rhat\n",
    "\n",
    "    return Force\n",
    "\n",
    "fBA = Eforce(2e-6,7e-6,np.array([0,0]),np.array([0.25, np.sqrt(0.5 ** 2 - 0.25 ** 2)]))\n",
    "fCA = Eforce(2e-6,-4e-6,np.array([0,0]),np.array([0.5,0]))\n",
    "print(fCA + fBA)"
   ]
  },
  {
   "cell_type": "code",
   "execution_count": null,
   "metadata": {},
   "outputs": [],
   "source": []
  }
 ],
 "metadata": {
  "kernelspec": {
   "display_name": "Python 3",
   "language": "python",
   "name": "python3"
  },
  "language_info": {
   "codemirror_mode": {
    "name": "ipython",
    "version": 3
   },
   "file_extension": ".py",
   "mimetype": "text/x-python",
   "name": "python",
   "nbconvert_exporter": "python",
   "pygments_lexer": "ipython3",
   "version": "3.10.9 (main, Dec 19 2022, 17:35:49) [GCC 12.2.0]"
  },
  "orig_nbformat": 4,
  "vscode": {
   "interpreter": {
    "hash": "e7370f93d1d0cde622a1f8e1c04877d8463912d04d973331ad4851f04de6915a"
   }
  }
 },
 "nbformat": 4,
 "nbformat_minor": 2
}
