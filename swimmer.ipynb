{
 "cells": [
  {
   "cell_type": "code",
   "execution_count": 13,
   "metadata": {},
   "outputs": [
    {
     "ename": "KeyboardInterrupt",
     "evalue": "",
     "output_type": "error",
     "traceback": [
      "\u001b[0;31m---------------------------------------------------------------------------\u001b[0m",
      "\u001b[0;31mKeyboardInterrupt\u001b[0m                         Traceback (most recent call last)",
      "Cell \u001b[0;32mIn[13], line 36\u001b[0m\n\u001b[1;32m     34\u001b[0m \u001b[39m#while loop\u001b[39;00m\n\u001b[1;32m     35\u001b[0m \u001b[39mwhile\u001b[39;00m pos[\u001b[39m1\u001b[39m] \u001b[39m<\u001b[39m\u001b[39m=\u001b[39m \u001b[39m0\u001b[39m:\n\u001b[0;32m---> 36\u001b[0m     v_mag \u001b[39m=\u001b[39m np\u001b[39m.\u001b[39;49mlinalg\u001b[39m.\u001b[39;49mnorm(v)\n\u001b[1;32m     37\u001b[0m     v_hat \u001b[39m=\u001b[39m v \u001b[39m/\u001b[39m v_mag\n\u001b[1;32m     39\u001b[0m     F_drag \u001b[39m=\u001b[39m F_drag_wo_v \u001b[39m*\u001b[39m (v_mag \u001b[39m*\u001b[39m\u001b[39m*\u001b[39m \u001b[39m2\u001b[39m) \u001b[39m*\u001b[39m \u001b[39m-\u001b[39mv_hat\n",
      "File \u001b[0;32m<__array_function__ internals>:200\u001b[0m, in \u001b[0;36mnorm\u001b[0;34m(*args, **kwargs)\u001b[0m\n",
      "File \u001b[0;32m/usr/lib/python3.10/site-packages/numpy/linalg/linalg.py:2512\u001b[0m, in \u001b[0;36mnorm\u001b[0;34m(x, ord, axis, keepdims)\u001b[0m\n\u001b[1;32m   2510\u001b[0m \u001b[39melse\u001b[39;00m:\n\u001b[1;32m   2511\u001b[0m     sqnorm \u001b[39m=\u001b[39m x\u001b[39m.\u001b[39mdot(x)\n\u001b[0;32m-> 2512\u001b[0m ret \u001b[39m=\u001b[39m sqrt(sqnorm)\n\u001b[1;32m   2513\u001b[0m \u001b[39mif\u001b[39;00m keepdims:\n\u001b[1;32m   2514\u001b[0m     ret \u001b[39m=\u001b[39m ret\u001b[39m.\u001b[39mreshape(ndim\u001b[39m*\u001b[39m[\u001b[39m1\u001b[39m])\n",
      "\u001b[0;31mKeyboardInterrupt\u001b[0m: "
     ]
    }
   ],
   "source": [
    "# put the needed libraries first, here at the top\n",
    "import numpy as np # math\n",
    "import matplotlib.pyplot as plt # graphing\n",
    "\n",
    "#knowns\n",
    "m = 70 # kg https://en.wikipedia.org/wiki/Human_body_weight\n",
    "g = np.array([0, -9.8]) # m / s^2, gravity\n",
    "\n",
    "pos = np.array([0,0]) # m\n",
    "v = np.array([20 * np.cos(30 * np.pi / 180), -20 * np.sin(30 * np.pi / 180)]) # m / s\n",
    "\n",
    "rho = 1 # density\n",
    "# https://pubmed.ncbi.nlm.nih.gov/3417695/\n",
    "drag_coeff = 0.59 # drag coefficient\n",
    "radius = 0.55 # meter\n",
    "A = radius ** 2 * np.pi # cross sectional area\n",
    "F_drag_wo_v =  0.5 * rho * drag_coeff * A\n",
    "\n",
    "# density of a person\n",
    "d = 0.985 # https://www.google.com/url?sa=t&rct=j&q=&esrc=s&source=web&cd=&cad=rja&uact=8&ved=2ahUKEwiB5-Tm64SBAxWSFlkFHaZdAK0QFnoECCwQAQ&url=https%3A%2F%2Fwww.quora.com%2FWhat-is-the-average-density-of-human-body&usg=AOvVaw0ykyEvL-OjcGFEM6oqZO5b&opi=89978449\n",
    "volume = m / d \n",
    "\n",
    "F_b = g * -1 * rho * volume\n",
    "\n",
    "t = 0 # s\n",
    "dt = 0.1 # time step\n",
    "\n",
    "ylist = [pos[1]]\n",
    "xlist = [pos[0]]\n",
    "vylist = [v[1]]\n",
    "vxlist = [v[0]]\n",
    "tlist = [t]\n",
    "\n",
    "#while loop\n",
    "while pos[1] <= 0:\n",
    "    v_mag = np.linalg.norm(v)\n",
    "    v_hat = v / v_mag\n",
    "\n",
    "    F_drag = F_drag_wo_v * (v_mag ** 2) * -v_hat\n",
    "\n",
    "    Fnet = m * g + F_drag + F_b\n",
    "\n",
    "    #print(pos, v, Fnet)\n",
    "\n",
    "    a = Fnet / m\n",
    "\n",
    "    v = v + a * dt\n",
    "    pos = pos + v * dt\n",
    "    t += dt\n",
    "\n",
    "    ylist.append(pos[1])\n",
    "    xlist.append(pos[0])\n",
    "\n",
    "    vylist.append(v[1])\n",
    "    vxlist.append(v[0])\n",
    "\n",
    "    tlist.append(t)\n",
    "\n",
    "plt.scatter(xlist, ylist, color='indigo');   # this makes a scatterplot!\n",
    "plt.xlabel(\"Distance (s)\") # x is time\n",
    "plt.ylabel(\"Height (m/s)\") # y is velocity\n",
    "plt.title(\"Trajectory Graph\") # title\n",
    "\n",
    "plt.show()\n",
    "\n"
   ]
  }
 ],
 "metadata": {
  "kernelspec": {
   "display_name": "Python 3",
   "language": "python",
   "name": "python3"
  },
  "language_info": {
   "codemirror_mode": {
    "name": "ipython",
    "version": 3
   },
   "file_extension": ".py",
   "mimetype": "text/x-python",
   "name": "python",
   "nbconvert_exporter": "python",
   "pygments_lexer": "ipython3",
   "version": "3.10.9 (main, Dec 19 2022, 17:35:49) [GCC 12.2.0]"
  },
  "orig_nbformat": 4,
  "vscode": {
   "interpreter": {
    "hash": "e7370f93d1d0cde622a1f8e1c04877d8463912d04d973331ad4851f04de6915a"
   }
  }
 },
 "nbformat": 4,
 "nbformat_minor": 2
}
