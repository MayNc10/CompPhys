{
 "cells": [
  {
   "cell_type": "markdown",
   "id": "a04b2dc0-68b7-4b30-9de2-0a785988acca",
   "metadata": {},
   "source": [
    "## Energy, Momentum, and Mass\n",
    "\n",
    "Walter Kaufmann and Alfred Bucherer performed experiments in the early 20th century to determine the effect of electric fields and magnetic fields on moving electrons. In 1901, Kaufmann did an experiment to investigate the effect of changing energy on electrons in the 0.7 MeV to 1.6 MeV energy range. Later, Bucherer did a similar experiment, which included lower energy electrons. Note that Kaufmann took his data before the introduction of the special theory of relativity in 1905. In both cases, the experimenters measured energy by deflecting an electron beam with an electric field while momentum was derived by deflecting the beam with a magnetic field, as seen in Figure 1 below \n",
    "![](https://drive.google.com/uc?export=view&id=1BSOCNoXLmHfuN2rczExpGL-cpNqJqxy1)  \n",
    "\n"
   ]
  },
  {
   "cell_type": "markdown",
   "id": "1a068adb-d4ca-43b5-bb57-392e4da102d9",
   "metadata": {},
   "source": [
    "Your job is to determine the relationship between energy, momentum and mass using these data.  \n",
    "\n",
    "What do we know?  \n",
    "- The path of the electrons in the electric field is used to determine the energy of the electron.  \n",
    "- The path of the electrons in the magnetic field is used to determine the momentum of the electron.\n",
    "- The shape of graphed data gives evidence for how to modify the data to plot a linear graph.\n",
    " - The units of the slope and intercept of a linear graph give evidence for the physical meaning of the slope and intercept values.\n",
    "\n",
    "What do we need?  \n",
    "- Data table\n",
    "\n",
    "The [data table](https://github.com/meganalvord/partilcephysicsdata/blob/main/Exercise%20-%20EPM%20data%20-%20Sheet1.csv) has the first 4 rows from simulated data, the next 5 rows from Bucherer's 1909 data, and the last 5 rows from Kaufmann's 1901 data. Go to the link and click until you have the 'raw data' (this will look like a white page with just a lot of data). Copy that url for use below"
   ]
  },
  {
   "cell_type": "code",
   "execution_count": 1,
   "id": "c39b8e6a-f71e-435d-b0c9-55ff0f71ed16",
   "metadata": {},
   "outputs": [
    {
     "data": {
      "text/html": [
       "<div>\n",
       "<style scoped>\n",
       "    .dataframe tbody tr th:only-of-type {\n",
       "        vertical-align: middle;\n",
       "    }\n",
       "\n",
       "    .dataframe tbody tr th {\n",
       "        vertical-align: top;\n",
       "    }\n",
       "\n",
       "    .dataframe thead th {\n",
       "        text-align: right;\n",
       "    }\n",
       "</style>\n",
       "<table border=\"1\" class=\"dataframe\">\n",
       "  <thead>\n",
       "    <tr style=\"text-align: right;\">\n",
       "      <th></th>\n",
       "      <th>p (MeV/c)</th>\n",
       "      <th>E (MeV)</th>\n",
       "    </tr>\n",
       "  </thead>\n",
       "  <tbody>\n",
       "    <tr>\n",
       "      <th>0</th>\n",
       "      <td>0.053</td>\n",
       "      <td>0.515</td>\n",
       "    </tr>\n",
       "    <tr>\n",
       "      <th>1</th>\n",
       "      <td>0.080</td>\n",
       "      <td>0.520</td>\n",
       "    </tr>\n",
       "    <tr>\n",
       "      <th>2</th>\n",
       "      <td>0.132</td>\n",
       "      <td>0.530</td>\n",
       "    </tr>\n",
       "    <tr>\n",
       "      <th>3</th>\n",
       "      <td>0.158</td>\n",
       "      <td>0.540</td>\n",
       "    </tr>\n",
       "    <tr>\n",
       "      <th>4</th>\n",
       "      <td>0.172</td>\n",
       "      <td>0.542</td>\n",
       "    </tr>\n",
       "  </tbody>\n",
       "</table>\n",
       "</div>"
      ],
      "text/plain": [
       "   p (MeV/c)  E (MeV)\n",
       "0      0.053    0.515\n",
       "1      0.080    0.520\n",
       "2      0.132    0.530\n",
       "3      0.158    0.540\n",
       "4      0.172    0.542"
      ]
     },
     "execution_count": 1,
     "metadata": {},
     "output_type": "execute_result"
    }
   ],
   "source": [
    "import matplotlib.pyplot as plt\n",
    "import numpy as np\n",
    "import pandas as pd\n",
    "\n",
    "data = pd.read_csv('https://raw.githubusercontent.com/meganalvord/partilcephysicsdata/main/Exercise%20-%20EPM%20data%20-%20Sheet1.csv')\n",
    "\n",
    "data.head()\n"
   ]
  },
  {
   "cell_type": "code",
   "execution_count": 2,
   "id": "9201c008-2727-4b56-8eff-185ed16f7044",
   "metadata": {},
   "outputs": [
    {
     "data": {
      "image/png": "[encoded data removed]",
      "text/plain": [
       "<Figure size 640x480 with 1 Axes>"
      ]
     },
     "metadata": {},
     "output_type": "display_data"
    }
   ],
   "source": [
    "#using the dataframe/csv file from above, plot energy (E) as a function of momentum (p). Remember, you plot y as a function of x\n",
    "#be sure to use good graphing practices: titles, axis labels with units, etc. \n",
    "plt.scatter(data['p (MeV/c)'], data['E (MeV)'])\n",
    "plt.title(\"Energy vs. Momentum\")\n",
    "plt.xlabel(\"p (MeV/c)\")\n",
    "plt.ylabel(\"E (MeV)\")\n",
    "plt.show()"
   ]
  },
  {
   "cell_type": "markdown",
   "id": "ef5eb98c-cfe7-461d-8593-23be6a0a40f2",
   "metadata": {},
   "source": [
    "#### Answer this question in this markdown box \n",
    "Describe the relationship between energy and momentum using features of your graph: The curve is non-linear, and follows a parabolic shape"
   ]
  },
  {
   "cell_type": "markdown",
   "id": "b68a93fa-0e0c-4f09-8b11-a11029b58b43",
   "metadata": {},
   "source": [
    "***\n",
    "\n",
    "The graph above is not linear and needs to be linearized for us to derive meaning. Thinking back to the special relativity equation, you will need to modify both the y variable and the x variable. We can do this by adding new columns to our dataframe"
   ]
  },
  {
   "cell_type": "code",
   "execution_count": 3,
   "id": "6b155044-2b30-48c7-a2d8-95068059b64f",
   "metadata": {},
   "outputs": [
    {
     "data": {
      "text/html": [
       "<div>\n",
       "<style scoped>\n",
       "    .dataframe tbody tr th:only-of-type {\n",
       "        vertical-align: middle;\n",
       "    }\n",
       "\n",
       "    .dataframe tbody tr th {\n",
       "        vertical-align: top;\n",
       "    }\n",
       "\n",
       "    .dataframe thead th {\n",
       "        text-align: right;\n",
       "    }\n",
       "</style>\n",
       "<table border=\"1\" class=\"dataframe\">\n",
       "  <thead>\n",
       "    <tr style=\"text-align: right;\">\n",
       "      <th></th>\n",
       "      <th>p (MeV/c)</th>\n",
       "      <th>E (MeV)</th>\n",
       "      <th>E^2</th>\n",
       "    </tr>\n",
       "  </thead>\n",
       "  <tbody>\n",
       "    <tr>\n",
       "      <th>0</th>\n",
       "      <td>0.053</td>\n",
       "      <td>0.515</td>\n",
       "      <td>0.265225</td>\n",
       "    </tr>\n",
       "    <tr>\n",
       "      <th>1</th>\n",
       "      <td>0.080</td>\n",
       "      <td>0.520</td>\n",
       "      <td>0.270400</td>\n",
       "    </tr>\n",
       "    <tr>\n",
       "      <th>2</th>\n",
       "      <td>0.132</td>\n",
       "      <td>0.530</td>\n",
       "      <td>0.280900</td>\n",
       "    </tr>\n",
       "    <tr>\n",
       "      <th>3</th>\n",
       "      <td>0.158</td>\n",
       "      <td>0.540</td>\n",
       "      <td>0.291600</td>\n",
       "    </tr>\n",
       "    <tr>\n",
       "      <th>4</th>\n",
       "      <td>0.172</td>\n",
       "      <td>0.542</td>\n",
       "      <td>0.293764</td>\n",
       "    </tr>\n",
       "  </tbody>\n",
       "</table>\n",
       "</div>"
      ],
      "text/plain": [
       "   p (MeV/c)  E (MeV)       E^2\n",
       "0      0.053    0.515  0.265225\n",
       "1      0.080    0.520  0.270400\n",
       "2      0.132    0.530  0.280900\n",
       "3      0.158    0.540  0.291600\n",
       "4      0.172    0.542  0.293764"
      ]
     },
     "execution_count": 3,
     "metadata": {},
     "output_type": "execute_result"
    }
   ],
   "source": [
    "#I'll model one and then leave you to do the next\n",
    "#We need to square the energy value\n",
    "\n",
    "#I am going to define a new column, called E^2. This will equal the value from the original column E squared\n",
    "\n",
    "data['E^2'] = data['E (MeV)']**2\n",
    "\n",
    "data.head() #so we can see what happened\n"
   ]
  },
  {
   "cell_type": "code",
   "execution_count": 4,
   "id": "2d36acb2-288c-4c24-86ae-d0f882d8d64c",
   "metadata": {},
   "outputs": [],
   "source": [
    "# Now you. What do you have to do the momentum value? Replicate it here\n",
    "\n",
    "data['p^2'] = data['p (MeV/c)']**2"
   ]
  },
  {
   "cell_type": "code",
   "execution_count": 5,
   "id": "e4ee0921-2452-4728-b139-fea5c5e4516f",
   "metadata": {},
   "outputs": [
    {
     "data": {
      "image/png": "[encoded data removed]",
      "text/plain": [
       "<Figure size 640x480 with 1 Axes>"
      ]
     },
     "metadata": {},
     "output_type": "display_data"
    }
   ],
   "source": [
    "# Now plot the modified data. Again, remember all of your good graphing skills\n",
    "\n",
    "plt.scatter(data['p^2'], data['E^2'])\n",
    "plt.title(\"Energy squared vs. Momentum squared\")\n",
    "plt.xlabel(\"p^2 (MeV/c)^2\")\n",
    "plt.ylabel(\"E^2 (MeV)^2\")\n",
    "plt.show()"
   ]
  },
  {
   "cell_type": "markdown",
   "id": "7025a790-298e-471a-868d-07906eb853c2",
   "metadata": {},
   "source": [
    "Now here is some code that you will need to copy into the cell above and then modify to fit your data\n",
    "\n",
    "#find line of best fit  \n",
    "a, b = np.polyfit(x, y, 1)  \n",
    "\n",
    "#add line of best fit to plot  \n",
    "plt.plot(x, a*x+b)\n",
    "\n",
    "print out the values of a and b to see your slope and intercept values"
   ]
  },
  {
   "cell_type": "code",
   "execution_count": 6,
   "id": "ca9a9bd2",
   "metadata": {},
   "outputs": [
    {
     "name": "stdout",
     "output_type": "stream",
     "text": [
      "Slope: 0.2567949726490762, Y-Intercept: 1.0066085700724792\n"
     ]
    },
    {
     "data": {
      "text/plain": [
       "[<matplotlib.lines.Line2D at 0x7f07d41c24a0>]"
      ]
     },
     "execution_count": 6,
     "metadata": {},
     "output_type": "execute_result"
    },
    {
     "data": {
      "image/png": "[encoded data removed]",
      "text/plain": [
       "<Figure size 640x480 with 1 Axes>"
      ]
     },
     "metadata": {},
     "output_type": "display_data"
    }
   ],
   "source": [
    "#find line of best fit  \n",
    "a, b = np.polyfit(data['p^2'], data['E^2'], 1)  \n",
    "\n",
    "print(f\"Slope: {b}, Y-Intercept: {a}\")\n",
    "\n",
    "#add line of best fit to plot  \n",
    "plt.plot(data['p^2'], a*data['p^2']+b)\n",
    "plt.show()\n"
   ]
  },
  {
   "cell_type": "markdown",
   "id": "ad1213c9-b2a4-4c99-ad92-612597a9b8cf",
   "metadata": {},
   "source": [
    "***\n",
    "### Analysis \n",
    "\n",
    "The goal of a matching table is to match the graphical data and line of best fit to a known physics equation (at least at the high school level. the goal of research is to discover these physics equations).\n",
    "\n",
    "Using your linear plot, your line of best fit, and the relativity equation, fill out the following matching table (this is a new format for me in markdown so if it's too confusing or the formatting goes haywire, feel free to do this on paper and link into here)\n",
    "\n",
    "| Math               | y | = | m | * | x | + | b |\n",
    "|--------------------|---|---|---|---|---|---|---|\n",
    "| Numbers with units | $E^2 \\; (MeV^2)$  | = | $p^2 \\; (\\frac{MeV}{c}^2)$  | * | $0.26 \\; (c^2)$  | + | $1 \\; (MeV^2)$  |\n",
    "| Physics equation   | $E^2$  | = | $p^2$  | * | $c^2$  | + | $m^2c^4$ |\n",
    "| Units              |  $MeV^2$ | = | $\\frac{MeV}{c}^2$  | * | $c^2$  | + | $MeV^2$  |   |\n",
    "\n"
   ]
  },
  {
   "cell_type": "markdown",
   "id": "3469110c-5a35-4df4-95da-74e331818cfa",
   "metadata": {},
   "source": [
    "*** \n",
    "\n",
    "### Interpretation \n",
    "\n",
    "1. Describe the physical meaning of the slope of the linearized graph. Use the units as a clue\n",
    "\n",
    "2. Describe the physical meaning of the intercept of the linearized graph. Remember that when \n",
    "momentum equals zero, the electron is at rest in the reference frame. Use the units as a clue\n",
    "\n",
    "- The y-intercept of the graph physically represents the rest energy of the electron squared. This is because the y-intercept is the value of the graph when x = 0, and in this case x represents the momentum of the electron. For the momentum to be 0, either the velocity or mass have to be 0, because momentum is mass times velocity. Electrons are not massless, so the y-intercept occurs when the electron is not moving. This means that the y-intercept represents the rest energy of the electron squared, which is estimated at $1 \\; (MeV^2)$.\n",
    "\n",
    "3. What is the mass of an electron based on the data? .\n",
    "\n",
    "- The mass of an electron can be estimated based on the y-intercept of the data. The y-intercept is approximately $1 MeV^2$, which is equivalent to $m_e^2c^4$. We can take the square root of both sides, giving us $1 MeV = mc^2$. Rearranging, we find that $m_e = \\frac{1 MeV}{c^2}$. Because this is a relativity equation, $c = 1$, so we get that $m_e = 1 \\frac{MeV}{c^2}$. $ 1 \\frac{MeV}{c^2} $ is equal to $1.79 \\times 10^-30$ kg, which gives us our estimate for the mass of an electron. \n",
    "    \n"
   ]
  },
  {
   "cell_type": "markdown",
   "id": "d1bb7dc0-c7f9-4cc2-9154-fc43b2562f40",
   "metadata": {},
   "source": [
    "***\n",
    "### Conclusion\n",
    "\n",
    "For your conclusion you should write\n",
    "- What you did (what was your goal?)   1 SENTENCE\n",
    "- How you did it (how did you get your plots?)  1 SENTENCE\n",
    "- Take-Aways (what is the answer to the goal? Is the slope significant? Or the y-intercept?) 1 SENTENCE  \n",
    "Try to keep it as concise as possible (3 sentences is ideal)\n"
   ]
  },
  {
   "cell_type": "code",
   "execution_count": null,
   "id": "9e2db0c2-b5ca-453f-a0f9-245bb3beaa22",
   "metadata": {},
   "outputs": [],
   "source": []
  }
 ],
 "metadata": {
  "kernelspec": {
   "display_name": "Python 3 (ipykernel)",
   "language": "python",
   "name": "python3"
  },
  "language_info": {
   "codemirror_mode": {
    "name": "ipython",
    "version": 3
   },
   "file_extension": ".py",
   "mimetype": "text/x-python",
   "name": "python",
   "nbconvert_exporter": "python",
   "pygments_lexer": "ipython3",
   "version": "3.10.9"
  }
 },
 "nbformat": 4,
 "nbformat_minor": 5
}
