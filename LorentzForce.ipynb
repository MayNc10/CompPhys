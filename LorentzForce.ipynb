{
 "cells": [
  {
   "cell_type": "code",
   "execution_count": 41,
   "metadata": {
    "tags": []
   },
   "outputs": [],
   "source": [
    "%matplotlib inline"
   ]
  },
  {
   "cell_type": "code",
   "execution_count": 42,
   "metadata": {
    "tags": []
   },
   "outputs": [],
   "source": [
    "import numpy as np\n",
    "import matplotlib.pyplot as plt\n",
    "from mpl_toolkits.mplot3d import Axes3D"
   ]
  },
  {
   "cell_type": "code",
   "execution_count": 43,
   "metadata": {
    "tags": []
   },
   "outputs": [],
   "source": [
    "# Parameters for plot attributes\n",
    "plt.rc(\"xtick\", labelsize=\"large\")\n",
    "plt.rc(\"ytick\", labelsize=\"large\")\n",
    "plt.rc(\"axes\", labelsize=\"xx-large\")\n",
    "plt.rc(\"axes\", titlesize=\"xx-large\")\n",
    "plt.rc(\"figure\", figsize=(8,8))"
   ]
  },
  {
   "cell_type": "markdown",
   "metadata": {},
   "source": [
    "# The Lorentz Force - A Charged Particle in Magnetic Field\n",
    "The Lorentz force is written\n",
    "$$ \\vec{F}_{\\mathrm{EM}} = q\\left(\\vec{E} + \\vec{v}\\times\\vec{B}\\right).  $$"
   ]
  },
  {
   "cell_type": "markdown",
   "metadata": {},
   "source": [
    "## Part 1. Uniform Magnetic Field"
   ]
  },
  {
   "cell_type": "code",
   "execution_count": 1,
   "metadata": {
    "collapsed": false,
    "jupyter": {
     "outputs_hidden": false
    }
   },
   "outputs": [
    {
     "ename": "SyntaxError",
     "evalue": "invalid syntax (1750796912.py, line 2)",
     "output_type": "error",
     "traceback": [
      "\u001b[0;36m  Input \u001b[0;32mIn [1]\u001b[0;36m\u001b[0m\n\u001b[0;31m    m_p = ??      # mass of proton: kg\u001b[0m\n\u001b[0m          ^\u001b[0m\n\u001b[0;31mSyntaxError\u001b[0m\u001b[0;31m:\u001b[0m invalid syntax\n"
     ]
    }
   ],
   "source": [
    "# define key constants\n",
    "m_p = ??      # mass of proton: kg\n",
    "qe =  ??      # charge of proton: C\n",
    "\n",
    "# now, setting up an alpha particle\n",
    "m = ?? #kg\n",
    "q = ?? #C\n",
    "\n",
    "dt = 1.0E-7 #s\n",
    "t = 0 #s starting time\n",
    "\n",
    "pos = np.array([??]) #m, sets initial position\n",
    "v = np.array([??]) #m/s, sets initial velocity\n",
    "\n",
    "#create lists for graphing later\n",
    "xlist = [pos[0]]\n",
    "ylist = [pos[1]]\n",
    "zlist = [pos[2]]\n",
    "tlist = [t]\n",
    "\n",
    "\n",
    "# Strength of Fields\n",
    "B = np.array([??]) #Unit: Teslas, magnetic field is in the z-direction \n",
    "E = np.array([??]) #unit: N/C, electric field is zero for this example\n",
    "\n",
    "# Euler time steps\n",
    "while t < 0.01:\n",
    "    Fnet = ?? #Defining net force vector\n",
    "    a = ?? #calculating accerlation vector, Newton's 2nd Law\n",
    "    v = ?? #updating velocity vector \n",
    "    pos = ?? #updating position vector\n",
    "    t = ?? #updating time\n",
    "    \n",
    "    #updating lists\n",
    "    xlist.append(pos[0])\n",
    "    ylist.append(pos[1])\n",
    "    zlist.append(pos[2])\n",
    "    tlist.append(t)\n",
    "    \n",
    "# Plot the particle's trajectory, in the xy-plane\n",
    "plt.plot(xlist,ylist, label=\"Alpha particle\")\n",
    "plt.xlabel(\"$x$\")\n",
    "plt.ylabel(\"$y$\")\n",
    "plt.title(\"Particle Trajectories in Uniform Magnetic Field\")\n",
    "plt.legend(fontsize=\"x-large\")\n",
    "plt.xlim(-13,13)\n",
    "plt.ylim(-13,13)\n",
    "plt.show()\n",
    "\n",
    "#Now plot the particle's trajector in the xz-plane. What do you notice?\n",
    "plt.plot(xlist,zlist, label=\"Alpha particle\")\n",
    "plt.xlabel(\"$x$\")\n",
    "plt.ylabel(\"$z$\")\n",
    "plt.title(\"Particle Trajectories in Uniform Magnetic Field\")\n",
    "plt.show()"
   ]
  },
  {
   "cell_type": "markdown",
   "metadata": {},
   "source": [
    "## Your Turn\n",
    "\n",
    "Try a negative ion with the same mass as a proton and the same charge as an electron. \n",
    "\n",
    "Compare and contrast this new plot with the plot of the alpha particle above"
   ]
  },
  {
   "cell_type": "code",
   "execution_count": null,
   "metadata": {},
   "outputs": [],
   "source": []
  },
  {
   "cell_type": "markdown",
   "metadata": {},
   "source": [
    "# Part 2: Magnetic field + Electric Field\n",
    "\n",
    "Add an electric field value (either in the x or y direction) and see what happens!\n",
    "\n",
    "Can you find (or better yet, calculate based on your work from \"round the bend\" part 2) that will allow the particle to experience constant velocity?\n"
   ]
  },
  {
   "cell_type": "code",
   "execution_count": null,
   "metadata": {},
   "outputs": [],
   "source": []
  },
  {
   "cell_type": "code",
   "execution_count": null,
   "metadata": {},
   "outputs": [],
   "source": []
  }
 ],
 "metadata": {
  "kernelspec": {
   "display_name": "Python 3 (ipykernel)",
   "language": "python",
   "name": "python3"
  },
  "language_info": {
   "codemirror_mode": {
    "name": "ipython",
    "version": 3
   },
   "file_extension": ".py",
   "mimetype": "text/x-python",
   "name": "python",
   "nbconvert_exporter": "python",
   "pygments_lexer": "ipython3",
   "version": "3.11.4"
  }
 },
 "nbformat": 4,
 "nbformat_minor": 4
}
