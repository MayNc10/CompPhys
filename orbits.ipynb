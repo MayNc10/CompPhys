{
 "cells": [
  {
   "cell_type": "code",
   "execution_count": 4,
   "metadata": {},
   "outputs": [
    {
     "name": "stdout",
     "output_type": "stream",
     "text": [
      "r1 = -906.6806969191493, r2 = -54529.0\n",
      "The distance from the sun at ahelion is 5282214660876.441 meters\n",
      "The velocity of the object at ahelion is 906.6806969191493 meters / second\n",
      "The orbital period of the object around the sun is 2399312511.8451877 seconds, or 76.08170065465461 years\n",
      "The orbital eccentricity of the object is 0.9672889126454061\n"
     ]
    }
   ],
   "source": [
    "# import libraries\n",
    "import matplotlib.pyplot as plt\n",
    "import numpy as np\n",
    "\n",
    "l1 = float(input(\"What is the distance from the object to the sun at perihelion?\")) # distance, in meters\n",
    "v1 = float(input(\"What is the velocity of the object at perihelion?\")) # velocity, in m / s\n",
    "\n",
    "# v2^2 - 2GMv2/v1l1 - v1^2 + 2GM/l1 = 0\n",
    "# to make this a quadratic equation, let v2 = x\n",
    "# x^2 - (2GM/v1l1)x - v1^2 + 2GM/l1 = 0\n",
    "\n",
    "# define constants\n",
    "G = 6.6738E-11 # Nm^2/kg^2\n",
    "M = 1.9891E+30 # kg\n",
    "\n",
    "# quadratic formula: x = (-b +/- sqrt(b^2 - 4ac))/2a\n",
    "# find the roots, use the smaller one as per the assignment\n",
    "# assign a, b, and c\n",
    "a = 1\n",
    "b = (2 * G * M) / (v1 * l1) \n",
    "c = -(v1 ** 2) + (2 * G * M) / l1\n",
    "\n",
    "# caluclate both roots, either could be v2\n",
    "r1 = (-b + np.sqrt(b ** 2 - 4 * a * c)) / (2 * a) \n",
    "r2 = (-b - np.sqrt(b ** 2 - 4 * a * c)) / (2 * a)\n",
    "\n",
    "# v2 is the smaller root\n",
    "v2 = min(abs(r1), abs(r2)) # m / s, we make them both positive because otherwise the numbers are really strange (and wrong)\n",
    "l2 = (l1 * v1) / v2 # m, using the fact that l2v2 = l1v1\n",
    "print(f\"The distance from the sun at ahelion is {l2} meters\")\n",
    "print(f\"The velocity of the object at ahelion is {v2} meters / second\")\n",
    "# calculate the semi-major and semi-minor axes\n",
    "a = 0.5 * (l1 + l2) # meters\n",
    "b = np.sqrt(l1 * l2) # meters\n",
    "\n",
    "# calculate orbital period \n",
    "T = (2 * np.pi * a * b) / (l1 * v1) # seconds\n",
    "T_years = T * (1/60) * (1/60) * (1/24) * (1/365)\n",
    "# calculate orbital eccentricty\n",
    "e = (l2 - l1) / (l2 + l1) # dimensionless\n",
    "\n",
    "print(f\"The orbital period of the object around the sun is {T} seconds, or {T_years} years\")\n",
    "print(f\"The orbital eccentricity of the object is {e}\")\n",
    "\n"
   ]
  },
  {
   "cell_type": "code",
   "execution_count": null,
   "metadata": {},
   "outputs": [],
   "source": []
  }
 ],
 "metadata": {
  "kernelspec": {
   "display_name": "Python 3",
   "language": "python",
   "name": "python3"
  },
  "language_info": {
   "codemirror_mode": {
    "name": "ipython",
    "version": 3
   },
   "file_extension": ".py",
   "mimetype": "text/x-python",
   "name": "python",
   "nbconvert_exporter": "python",
   "pygments_lexer": "ipython3",
   "version": "3.10.9"
  },
  "orig_nbformat": 4
 },
 "nbformat": 4,
 "nbformat_minor": 2
}
