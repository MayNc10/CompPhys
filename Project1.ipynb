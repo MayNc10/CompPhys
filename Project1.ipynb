{
 "cells": [
  {
   "cell_type": "markdown",
   "metadata": {},
   "source": [
    "## Part 2 ##\n",
    "\n",
    "Here is our position vs. time graph for the ball once it hit the water:\n",
    "\n",
    "![Alt text](image.png)\n",
    "To calculate the velocity and angle, we first caluclate the x and y velocities independently. To do this, we take the first two data points from the x and y, subtract the first from the second, and divide by the time between them. This gives us the average velocity between those points. which we can estimate to be the starting velocities. To caluclate the magnitude and angle of the velocity, we use the Pythagoren theorem to calculate the distance between the points in 2d space, and to caluclate $\\theta$, we use the fact that $sin(\\theta) = O/H$, so $\\theta = arcsin(O/H) = arcsin(v_y / v)$\n",
    "\n",
    "The full set of equations looks like\n",
    "$$v_x = \\frac{x_2 - x_1}{t_2 - t_1}$$\n",
    "$$v_y = \\frac{y_2 - y_1}{t_2 - t_1}$$\n",
    "$$v = \\sqrt{v_x^2 + v_y^2}$$\n",
    "$$\\theta = arcsin(v_y / v)$$\n",
    "\n",
    "Plugging in the values $x_1 = 0.6619$, $x_2 = 0.6416$, $y_1 = 0.3505$, $y_2 = 0.3437$, $t_1 = 0.2549$, and $t_2 = 0.2592$, we get that $v = 4.98$ m/s, and $\\theta = -0.32$ radians ($-18.52$ degrees) below the horizontal. \n"
   ]
  },
  {
   "cell_type": "markdown",
   "metadata": {},
   "source": [
    "## Part 3 ##\n",
    "With core mehcnaics assumptions, we ignore drag and bouancy, and just focus on gravity. To find the range of the ball, we first have to find how long it's in the air, which is the time it takes to fall to the ground. The DVAT equation to use here is\n",
    "$$y_f = y_i + v_y t + \\frac{1}{2} a t^2$$\n",
    "$y_i$ comes from our data, $v_y = \\frac{y_2 - y_1}{t_2 - t_1}$ $a$ is the gravitational field strength near Earth ($-9.81 \\frac{m}{s^2}$),  and $y_f$ is 0 since the ball is falling to the bottom of the tank. Rearranging for time, we find that\n",
    "$$t = \\frac{-v_y \\pm \\sqrt{v_y^2 - 4 a y_i}}{2a}$$ \n",
    "From our data (and using $-$ instead of $+$), we can calculate that $t = 0.12$ s. To find the range the ball travels, we can use that same dvat, only solving for $x_f$, given that $x_i$ can be thought of as 0 and there isn't any acceleration in the x direction. Using that equation, we find that $x_f = 0.59$ m."
   ]
  }
 ],
 "metadata": {
  "language_info": {
   "name": "python"
  },
  "orig_nbformat": 4
 },
 "nbformat": 4,
 "nbformat_minor": 2
}
