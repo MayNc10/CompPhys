{
 "cells": [
  {
   "cell_type": "markdown",
   "metadata": {},
   "source": [
    "## The Snowboarder\n",
    "\n",
    "In these exercises we will model a snowboarder during the landing by having them bend their knees as they touch down. Axes note: In the exercises below, the unprimed coordinates (x,y) are rotated so that the x−axis points down the slope. The primed coordinates (x′,y′) are horizontal/vertical.<br>\n",
    "![snowboard](https://www.compadre.org/PICUP/images/exercises/snowboard200x120.jpg)\n",
    "<br>\n",
    "A snowboarder drops from a height *h* landing on a sloping surface. The speed of the snowboarder perpendicular to the slope (i.e. along y) when they first touch the surface is:<br> $$v_{y}=-\\sqrt{2gh}\\cos\\theta.$$<br> During the landing the snowboarder drops their center of mass vertically by an amount *b* by bending their knees. The average acceleration perpendicular to slope during the landing is: <br> $$a_{N}=\\frac{gh\\cos\\theta}{b}.$$<br> and the average normal force can be found using <br> $$F_{N}=mg(1+\\frac{h}{b})\\cos\\theta.$$<br>  The duration for the time of the landing can also be derived and is found using <br> $$\\Delta t=b\\sqrt\\frac{2}{gh}.$$<br>\n",
    "\n",
    "A) Discuss at least one assumption that is made using this model and how it would affect the force of landing.<br><br>\n",
    "B) Plot a<sub>N</sub> and F<sub>N</sub> as a function of slope angle θ (0≤θ<90<sup>o</sup>) for the case of a drop height *h*\n",
    "of 3.0 m. Assume a snowboarder mass of 72 kg and that their center of mass drops a distance of 0.40 m during landing. What is the value of F<sub>N</sub> for a person who drops onto horizontal ground?<br><br>\n",
    "C) For the case of part B), what is the value of F<sub>N</sub> for a person who drops onto a slope θ of 60<sup>o</sup>?<br><br>\n",
    "D) Assume that the force during landing in part C) yields a comfortable landing for the snowboarder. What slope (value of θ) must the snowboarder land on if the landing from a 5.0 m height is comfortable? (While the calculated slope turns out to be steep, snowboarders experience such slopes in the sport of extreme snowboarding. A web search of the phrase “Extreme Snowboarding Youtube” or the specific site “https://www.youtube.com/watch?v=5xbb9N8PpN8” yield examples.)<br><br>\n",
    "E) Look at your plots of average force and acceleration during the landing versus θ. Infer from these plots what parameters in Newton’s second law are changing with θ to allow the force to be small at large values of θ. No calculation required here- just a discussion of why the landing force is small at larger θ.<br><br>\n",
    "F) If the snowboarder lands in 4.0 cm of soft fresh power how might you include this in your calculation of part B)? What are the new values of F<sub>N</sub> in B) and C)? (hint - how does the person's center of mass change?)"
   ]
  },
  {
   "cell_type": "code",
   "execution_count": null,
   "metadata": {},
   "outputs": [],
   "source": []
  }
 ],
 "metadata": {
  "colab": {
   "name": "Exercise_Set_1 (4).ipynb",
   "provenance": []
  },
  "kernelspec": {
   "display_name": "Python 3 (ipykernel)",
   "language": "python",
   "name": "python3"
  },
  "language_info": {
   "codemirror_mode": {
    "name": "ipython",
    "version": 3
   },
   "file_extension": ".py",
   "mimetype": "text/x-python",
   "name": "python",
   "nbconvert_exporter": "python",
   "pygments_lexer": "ipython3",
   "version": "3.11.4"
  }
 },
 "nbformat": 4,
 "nbformat_minor": 4
}
