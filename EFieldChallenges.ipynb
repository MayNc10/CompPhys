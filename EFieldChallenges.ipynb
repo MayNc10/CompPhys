{
 "cells": [
  {
   "cell_type": "code",
   "execution_count": null,
   "metadata": {},
   "outputs": [],
   "source": [
    "import numpy as np\n",
    "import matplotlib.pyplot as plt\n",
    "\n",
    "# create the grid\n",
    "xlist = np.linspace(-1, 1, 12)\n",
    "ylist = np.linspace(-1, 1, 12)\n",
    "zlist = np.linspace(-1, 1, 12)\n",
    "X,Y,Z = np.meshgrid(xlist,ylist,zlist)\n",
    "\n",
    "# define u and v with the dimensions of X and Y, filled with zeroes\n",
    "Ex1 = np.zeros(X.shape)\n",
    "Ey1 = np.zeros(Y.shape)\n",
    "Ez1 = np.zeros(Z.shape)\n",
    "\n",
    "Ex2 = np.zeros(X.shape)\n",
    "Ey2 = np.zeros(Y.shape)\n",
    "Ez2 = np.zeros(Z.shape)\n",
    "\n",
    "\n",
    "\n",
    "k = 9E9 # Coulombs constant\n",
    "\n",
    "q1 = [5E-3, 0.5, 0.5, 0.5] # charge caharcteristics: charge, xpos, ypos, zpos\n",
    "q2 = [-5E-3, -0.5, -0.5, -0.5]\n",
    "\n",
    "# Calculate the components of an electric field.\n",
    "def PointEField(q, pos_q, pos_o):\n",
    "\n",
    "    r = pos_o - pos_q # distance between the point and the charge\n",
    "    rmag =  np.linalg.norm(r) # magnitude of the distance\n",
    "\n",
    "    # If the distance is zero, we are the point charge\n",
    "    # just don't return anything\n",
    "    if rmag <= 0:\n",
    "        return (0,0)\n",
    "\n",
    "    rhat = r / rmag # create the unit vector\n",
    "\n",
    "    # E = kq1/r^2\n",
    "    Emag = k * q / (rmag ** 2)\n",
    "\n",
    "    # calculate the x and y components \n",
    "    Ex = Emag * rhat[0]\n",
    "    Ey = Emag * rhat[1]\n",
    "    Ez = Emag * rhat[2]\n",
    "\n",
    "    # Return the two components as the function's outputs.\n",
    "    return Ex,Ey,Ez\n",
    "\n",
    "# loop over every point and set its value\n",
    "for i in range(X.shape[0]):\n",
    "    for j in range(X.shape[1]):\n",
    "        for k in range(X.shape[2]):\n",
    "            Ex1[i,j,k], Ey1[i,j,k], Ez1[i,j,k] = PointEField(q1[0], np.array(q1[1:]), np.array([X[i,j,k], Y[i,j,k], Z[i,j,k]]))\n",
    "            Ex2[i,j,k], Ey2[i,j,k], Ez2[i,j,k] = PointEField(q2[0], np.array(q2[1:]), np.array([X[i,j,k], Y[i,j,k], Z[i,j,k]]))\n",
    "\n",
    "        # Are the Efields zero? If so print this point\n",
    "        #if Ex1[i, j] == Ex2[i, j] and Ey1[i, j] == Ey2[i, j]:\n",
    "        #    print(f\"At {X[i,j]}, {Y[i,j]}, the field is zero\")\n",
    "\n",
    "\n",
    "# define the net Efield\n",
    "u = Ex1 + Ex2\n",
    "v = Ey1 + Ey2\n",
    "w = Ez1 + Ez2\n",
    "\n",
    "# plot our graphs!\n",
    "ax = plt.axes(projection =\"3d\")\n",
    "\n",
    "ax.quiver(X,Y,Z, u,v,w, color=\"black\")\n",
    "\n",
    "ax.scatter3D(q1[1], q1[2], q1[3], s=300, color=\"red\")\n",
    "#\n",
    "ax.scatter3D(q2[1], q2[2], q2[3], s=300, color=\"blue\")\n",
    "\n",
    "\n",
    "plt.axis('scaled')\n",
    "plt.show()"
   ]
  },
  {
   "attachments": {},
   "cell_type": "markdown",
   "metadata": {},
   "source": [
    "1. You can't find a point where the field is zero for charges that are of equal magnitude and opposite charge. This is because between the charges, the forces will never be pointing in opposite directions. When the charge is one on side of the carges, the forces are pointing opposite ways but one force will always be greater than the other.\n",
    "\n",
    "2. The graph shown doesn't look like a quadrupole, but a real quadrupole should have lines coming out of the positive charges and into the negative ones"
   ]
  }
 ],
 "metadata": {
  "kernelspec": {
   "display_name": "Python 3 (ipykernel)",
   "language": "python",
   "name": "python3"
  },
  "language_info": {
   "codemirror_mode": {
    "name": "ipython",
    "version": 3
   },
   "file_extension": ".py",
   "mimetype": "text/x-python",
   "name": "python",
   "nbconvert_exporter": "python",
   "pygments_lexer": "ipython3",
   "version": "3.10.9"
  },
  "orig_nbformat": 4,
  "vscode": {
   "interpreter": {
    "hash": "e7370f93d1d0cde622a1f8e1c04877d8463912d04d973331ad4851f04de6915a"
   }
  }
 },
 "nbformat": 4,
 "nbformat_minor": 2
}
